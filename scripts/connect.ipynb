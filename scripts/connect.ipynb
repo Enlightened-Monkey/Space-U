{
 "cells": [
  {
   "cell_type": "markdown",
   "id": "8e30047c",
   "metadata": {},
   "source": [
    "# IMPORT BIBLIOTEK"
   ]
  },
  {
   "cell_type": "code",
   "execution_count": 5,
   "id": "ab692911",
   "metadata": {},
   "outputs": [],
   "source": [
    "import mysql.connector\n",
    "import pandas as pd\n",
    "import random"
   ]
  },
  {
   "cell_type": "markdown",
   "id": "ca88800f",
   "metadata": {},
   "source": [
    "# POŁĄCZENIE Z BAZĄ DANYCH"
   ]
  },
  {
   "cell_type": "code",
   "execution_count": 8,
   "id": "054f7527",
   "metadata": {},
   "outputs": [
    {
     "name": "stdout",
     "output_type": "stream",
     "text": [
      "Połączenie udane\n"
     ]
    }
   ],
   "source": [
    "\n",
    "con = mysql.connector.connect(\n",
    "    host = \"localhost\",\n",
    "    user = \"testUser\",\n",
    "    password = \"test123User\",\n",
    "    database = \"test\"\n",
    ")\n",
    "\n",
    "if(con):\n",
    "    print(\"Połączenie udane\")\n",
    "else:\n",
    "    print(\"Połączenie nieudane\")"
   ]
  },
  {
   "cell_type": "markdown",
   "id": "eb903655",
   "metadata": {},
   "source": [
    "# TWORZENIE SCHEMATU BAZY DANYCH"
   ]
  },
  {
   "cell_type": "code",
   "execution_count": 22,
   "id": "5a39d6e9",
   "metadata": {},
   "outputs": [
    {
     "name": "stdout",
     "output_type": "stream",
     "text": [
      "Schemat bazy danych został utworzony.\n"
     ]
    }
   ],
   "source": [
    "cursor = con.cursor()\n",
    "\n",
    "schema_sql = \"\"\"\n",
    "CREATE TABLE IF NOT EXISTS Customers (\n",
    "    customer_id INT AUTO_INCREMENT PRIMARY KEY,\n",
    "    first_name VARCHAR(100),\n",
    "    last_name VARCHAR(100),\n",
    "    date_of_birth DATE,\n",
    "    is_insured BOOLEAN,\n",
    "    email VARCHAR(150),\n",
    "    phone_number VARCHAR(30),\n",
    "    emergency_contact_name VARCHAR(100),\n",
    "    emergency_contact_phone VARCHAR(30),\n",
    "    emergency_contact_relation VARCHAR(50)\n",
    ");\n",
    "\n",
    "CREATE TABLE IF NOT EXISTS Spacecrafts (\n",
    "    vehicle_id INT AUTO_INCREMENT PRIMARY KEY,\n",
    "    name VARCHAR(100),\n",
    "    type VARCHAR(100),\n",
    "    capacity INT,\n",
    "    manufacturing_date DATE,\n",
    "    status VARCHAR(50)\n",
    ");\n",
    "\n",
    "CREATE TABLE IF NOT EXISTS Employees (\n",
    "    employee_id INT AUTO_INCREMENT PRIMARY KEY,\n",
    "    first_name VARCHAR(100),\n",
    "    last_name VARCHAR(100),\n",
    "    role VARCHAR(100),\n",
    "    specialization VARCHAR(100),\n",
    "    assigned_vehicle_id INT,\n",
    "    FOREIGN KEY (assigned_vehicle_id) REFERENCES Spacecrafts(vehicle_id)\n",
    ");\n",
    "\n",
    "CREATE TABLE IF NOT EXISTS VehicleApprovals (\n",
    "    approval_id INT AUTO_INCREMENT PRIMARY KEY,\n",
    "    vehicle_id INT,\n",
    "    employee_id INT,\n",
    "    approval_date TIMESTAMP DEFAULT CURRENT_TIMESTAMP,\n",
    "    note TEXT,\n",
    "    FOREIGN KEY (vehicle_id) REFERENCES Spacecrafts(vehicle_id),\n",
    "    FOREIGN KEY (employee_id) REFERENCES Employees(employee_id)\n",
    ");\n",
    "\n",
    "CREATE TABLE IF NOT EXISTS Destinations (\n",
    "    destination_id INT AUTO_INCREMENT PRIMARY KEY,\n",
    "    name VARCHAR(100),\n",
    "    description TEXT,\n",
    "    distance_range VARCHAR(100), -- zmieniono z 'range'\n",
    "    x_coordinate FLOAT,\n",
    "    y_coordinate FLOAT,\n",
    "    z_coordinate FLOAT,\n",
    "    gravity_level FLOAT,\n",
    "    radiation_risk_level INT\n",
    ");\n",
    "\n",
    "CREATE TABLE IF NOT EXISTS TripTypes (\n",
    "    trip_type_id INT AUTO_INCREMENT PRIMARY KEY,\n",
    "    name VARCHAR(100),\n",
    "    description TEXT,\n",
    "    estimated_duration_days INT,\n",
    "    is_one_way BOOLEAN\n",
    ");\n",
    "\n",
    "CREATE TABLE IF NOT EXISTS Trips (\n",
    "    trip_id INT AUTO_INCREMENT PRIMARY KEY,\n",
    "    trip_type_id INT,\n",
    "    destination_id INT,\n",
    "    launch_date TIMESTAMP,\n",
    "    return_date TIMESTAMP,\n",
    "    spacecraft_id INT,\n",
    "    launch_method VARCHAR(100),\n",
    "    status VARCHAR(50),\n",
    "    organization_cost DECIMAL(12,2),\n",
    "    FOREIGN KEY (trip_type_id) REFERENCES TripTypes(trip_type_id),\n",
    "    FOREIGN KEY (destination_id) REFERENCES Destinations(destination_id),\n",
    "    FOREIGN KEY (spacecraft_id) REFERENCES Spacecrafts(vehicle_id)\n",
    ");\n",
    "\n",
    "CREATE TABLE IF NOT EXISTS TripParticipants (\n",
    "    participant_id INT AUTO_INCREMENT PRIMARY KEY,\n",
    "    trip_id INT,\n",
    "    customer_id INT,\n",
    "    ticket_price DECIMAL(10,2),\n",
    "    seat_number VARCHAR(10),\n",
    "    FOREIGN KEY (trip_id) REFERENCES Trips(trip_id),\n",
    "    FOREIGN KEY (customer_id) REFERENCES Customers(customer_id)\n",
    ");\n",
    "\n",
    "CREATE TABLE IF NOT EXISTS Transactions (\n",
    "    transaction_id INT AUTO_INCREMENT PRIMARY KEY,\n",
    "    customer_id INT,\n",
    "    amount DECIMAL(10,2),\n",
    "    transaction_date TIMESTAMP,\n",
    "    method VARCHAR(50),\n",
    "    description TEXT,\n",
    "    FOREIGN KEY (customer_id) REFERENCES Customers(customer_id)\n",
    ");\n",
    "\"\"\"\n",
    "for statement in schema_sql.strip().split(';'):\n",
    "    if statement.strip():\n",
    "        cursor.execute(statement + ';')\n",
    "\n",
    "con.commit()\n",
    "print(\"Schemat bazy danych został utworzony.\")"
   ]
  },
  {
   "cell_type": "code",
   "execution_count": 23,
   "id": "e8265714",
   "metadata": {},
   "outputs": [],
   "source": [
    "\n",
    "# Wczytanie danych z plików CSV\n",
    "imiona_men_df = pd.read_csv('data/imiona_men.csv')\n",
    "nazwiska_men_df = pd.read_csv('data/nazwiska_men.csv')\n",
    "imiona_woman_df = pd.read_csv('data/imiona_woman.csv')\n",
    "nazwiska_woman_df = pd.read_csv('data/nazwiska_woman.csv')\n",
    "\n",
    "# Zamiana na listy imion/nazwisk\n",
    "imiona_men = imiona_men_df['IMIĘ_PIERWSZE'].dropna().unique().tolist()\n",
    "nazwiska_men = nazwiska_men_df['Nazwisko aktualne'].dropna().unique().tolist()\n",
    "imiona_woman = imiona_woman_df['IMIĘ_PIERWSZE'].dropna().unique().tolist()\n",
    "nazwiska_woman = nazwiska_woman_df['Nazwisko aktualne'].dropna().unique().tolist()\n",
    "\n",
    "# Losowanie 500 par dla każdej płci\n",
    "sampled_imiona_men = random.sample(imiona_men, 500)\n",
    "sampled_nazwiska_men = random.sample(nazwiska_men, 500)\n",
    "sampled_imiona_woman = random.sample(imiona_woman, 500)\n",
    "sampled_nazwiska_woman = random.sample(nazwiska_woman, 500)\n",
    "\n",
    "# Tworzenie listy krotek (first_name, last_name)\n",
    "pary_men = list(zip(sampled_imiona_men, sampled_nazwiska_men))\n",
    "pary_woman = list(zip(sampled_imiona_woman, sampled_nazwiska_woman))\n",
    "\n",
    "# Połączenie obu płci\n",
    "wszystkie_pary = pary_men + pary_woman\n",
    "random.shuffle(wszystkie_pary)  # Losowa kolejność"
   ]
  },
  {
   "cell_type": "code",
   "execution_count": null,
   "id": "df7993fd",
   "metadata": {},
   "outputs": [
    {
     "ename": "ProgrammingError",
     "evalue": "Cursor is not connected",
     "output_type": "error",
     "traceback": [
      "\u001b[31m---------------------------------------------------------------------------\u001b[39m",
      "\u001b[31mProgrammingError\u001b[39m                          Traceback (most recent call last)",
      "\u001b[36mFile \u001b[39m\u001b[32m~/testYolo/env1/lib/python3.12/site-packages/mysql/connector/cursor_cext.py:460\u001b[39m, in \u001b[36mCMySQLCursor.executemany\u001b[39m\u001b[34m(self, operation, seq_params)\u001b[39m\n\u001b[32m    459\u001b[39m     \u001b[38;5;28;01mif\u001b[39;00m \u001b[38;5;129;01mnot\u001b[39;00m \u001b[38;5;28mself\u001b[39m._connection:\n\u001b[32m--> \u001b[39m\u001b[32m460\u001b[39m         \u001b[38;5;28;01mraise\u001b[39;00m ProgrammingError\n\u001b[32m    461\u001b[39m \u001b[38;5;28;01mexcept\u001b[39;00m (ProgrammingError, \u001b[38;5;167;01mReferenceError\u001b[39;00m) \u001b[38;5;28;01mas\u001b[39;00m err:\n",
      "\u001b[31mProgrammingError\u001b[39m: Unknown error",
      "\nThe above exception was the direct cause of the following exception:\n",
      "\u001b[31mProgrammingError\u001b[39m                          Traceback (most recent call last)",
      "\u001b[36mCell\u001b[39m\u001b[36m \u001b[39m\u001b[32mIn[21]\u001b[39m\u001b[32m, line 2\u001b[39m\n\u001b[32m      1\u001b[39m sql = \u001b[33m\"\u001b[39m\u001b[33mINSERT INTO Customers (first_name, last_name) VALUES (\u001b[39m\u001b[38;5;132;01m%s\u001b[39;00m\u001b[33m, \u001b[39m\u001b[38;5;132;01m%s\u001b[39;00m\u001b[33m)\u001b[39m\u001b[33m\"\u001b[39m\n\u001b[32m----> \u001b[39m\u001b[32m2\u001b[39m \u001b[43mcursor\u001b[49m\u001b[43m.\u001b[49m\u001b[43mexecutemany\u001b[49m\u001b[43m(\u001b[49m\u001b[43msql\u001b[49m\u001b[43m,\u001b[49m\u001b[43m \u001b[49m\u001b[43mwszystkie_pary\u001b[49m\u001b[43m)\u001b[49m\n\u001b[32m      3\u001b[39m con.commit()\n\u001b[32m      4\u001b[39m \u001b[38;5;28mprint\u001b[39m(\u001b[33m\"\u001b[39m\u001b[33mWstawiono 1000 klientów.\u001b[39m\u001b[33m\"\u001b[39m)\n",
      "\u001b[36mFile \u001b[39m\u001b[32m~/testYolo/env1/lib/python3.12/site-packages/mysql/connector/cursor_cext.py:462\u001b[39m, in \u001b[36mCMySQLCursor.executemany\u001b[39m\u001b[34m(self, operation, seq_params)\u001b[39m\n\u001b[32m    460\u001b[39m         \u001b[38;5;28;01mraise\u001b[39;00m ProgrammingError\n\u001b[32m    461\u001b[39m \u001b[38;5;28;01mexcept\u001b[39;00m (ProgrammingError, \u001b[38;5;167;01mReferenceError\u001b[39;00m) \u001b[38;5;28;01mas\u001b[39;00m err:\n\u001b[32m--> \u001b[39m\u001b[32m462\u001b[39m     \u001b[38;5;28;01mraise\u001b[39;00m ProgrammingError(\u001b[33m\"\u001b[39m\u001b[33mCursor is not connected\u001b[39m\u001b[33m\"\u001b[39m) \u001b[38;5;28;01mfrom\u001b[39;00m\u001b[38;5;250m \u001b[39m\u001b[34;01merr\u001b[39;00m\n\u001b[32m    463\u001b[39m \u001b[38;5;28mself\u001b[39m._connection.handle_unread_result()\n\u001b[32m    465\u001b[39m \u001b[38;5;28;01mif\u001b[39;00m \u001b[38;5;129;01mnot\u001b[39;00m \u001b[38;5;28misinstance\u001b[39m(seq_params, (\u001b[38;5;28mlist\u001b[39m, \u001b[38;5;28mtuple\u001b[39m)):\n",
      "\u001b[31mProgrammingError\u001b[39m: Cursor is not connected"
     ]
    }
   ],
   "source": [
    "cursor = con.cursor()\n",
    "sql = \"INSERT INTO Customers (first_name, last_name) VALUES (%s, %s)\"\n",
    "cursor.executemany(sql, wszystkie_pary)\n",
    "con.commit()\n",
    "print(\"Wstawiono 1000 klientów.\")"
   ]
  }
 ],
 "metadata": {
  "kernelspec": {
   "display_name": "env1",
   "language": "python",
   "name": "python3"
  },
  "language_info": {
   "codemirror_mode": {
    "name": "ipython",
    "version": 3
   },
   "file_extension": ".py",
   "mimetype": "text/x-python",
   "name": "python",
   "nbconvert_exporter": "python",
   "pygments_lexer": "ipython3",
   "version": "3.12.3"
  }
 },
 "nbformat": 4,
 "nbformat_minor": 5
}
