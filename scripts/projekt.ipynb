{
 "cells": [
  {
   "cell_type": "code",
   "execution_count": 2,
   "id": "d9d884a2",
   "metadata": {},
   "outputs": [],
   "source": [
    "import mysql.connector\n",
    "import pandas as pd\n",
    "import random"
   ]
  },
  {
   "cell_type": "code",
   "execution_count": 3,
   "id": "ff49618f",
   "metadata": {},
   "outputs": [
    {
     "name": "stdout",
     "output_type": "stream",
     "text": [
      "Połączenie udane\n"
     ]
    }
   ],
   "source": [
    "con = mysql.connector.connect(\n",
    "    host = \"giniewicz.it\",\n",
    "    user = \"team07\",\n",
    "    password = \"te@mlot\",\n",
    "    database = \"team07\"\n",
    ")\n",
    "\n",
    "if(con):\n",
    "    print(\"Połączenie udane\")\n",
    "else:\n",
    "    print(\"Połączenie nieudane\")\n",
    "# con.close()"
   ]
  },
  {
   "cell_type": "code",
   "execution_count": 23,
   "id": "a661b637",
   "metadata": {},
   "outputs": [],
   "source": [
    "import pandas as pd\n",
    "import random\n",
    "\n",
    "# Wczytanie danych z plików CSV\n",
    "imiona_men_df = pd.read_csv('imiona_men.csv')\n",
    "nazwiska_men_df = pd.read_csv('nazwiska_men.csv')\n",
    "imiona_woman_df = pd.read_csv('imiona_woman.csv')\n",
    "nazwiska_woman_df = pd.read_csv('nazwiska_woman.csv')\n",
    "\n",
    "# Zamiana na listy imion/nazwisk\n",
    "imiona_men = imiona_men_df['IMIĘ_PIERWSZE'].dropna().unique().tolist()\n",
    "nazwiska_men = nazwiska_men_df['Nazwisko aktualne'].dropna().unique().tolist()\n",
    "imiona_woman = imiona_woman_df['IMIĘ_PIERWSZE'].dropna().unique().tolist()\n",
    "nazwiska_woman = nazwiska_woman_df['Nazwisko aktualne'].dropna().unique().tolist()\n",
    "\n",
    "# Losowanie 500 par dla każdej płci\n",
    "sampled_imiona_men = random.sample(imiona_men, 500)\n",
    "sampled_nazwiska_men = random.sample(nazwiska_men, 500)\n",
    "sampled_imiona_woman = random.sample(imiona_woman, 500)\n",
    "sampled_nazwiska_woman = random.sample(nazwiska_woman, 500)\n",
    "\n",
    "# Tworzenie listy krotek (first_name, last_name)\n",
    "pary_men = list(zip(sampled_imiona_men, sampled_nazwiska_men))\n",
    "pary_woman = list(zip(sampled_imiona_woman, sampled_nazwiska_woman))\n",
    "\n",
    "# Połączenie obu płci\n",
    "wszystkie_pary = pary_men + pary_woman\n",
    "random.shuffle(wszystkie_pary)  # Losowa kolejność\n"
   ]
  },
  {
   "cell_type": "code",
   "execution_count": 25,
   "id": "bfa44b5f",
   "metadata": {},
   "outputs": [
    {
     "name": "stdout",
     "output_type": "stream",
     "text": [
      "Wyczyszczono tabelę Customers.\n"
     ]
    }
   ],
   "source": [
    "import mysql.connector\n",
    "\n",
    "con = mysql.connector.connect(\n",
    "    host=\"giniewicz.it\",\n",
    "    user=\"team07\",\n",
    "    password=\"te@mlot\",\n",
    "    database=\"team07\"\n",
    ")\n",
    "\n",
    "cursor = con.cursor()\n",
    "cursor.execute(\"DELETE FROM Customers\")\n",
    "con.commit()\n",
    "print(\"Wyczyszczono tabelę Customers.\")\n",
    "cursor.execute(\"ALTER TABLE Customers AUTO_INCREMENT = 1\")\n",
    "con.commit()\n"
   ]
  },
  {
   "cell_type": "code",
   "execution_count": 26,
   "id": "2fe92c1d",
   "metadata": {},
   "outputs": [
    {
     "name": "stdout",
     "output_type": "stream",
     "text": [
      "Wstawiono 1000 klientów.\n"
     ]
    }
   ],
   "source": [
    "sql = \"INSERT INTO Customers (first_name, last_name) VALUES (%s, %s)\"\n",
    "cursor.executemany(sql, wszystkie_pary)\n",
    "con.commit()\n",
    "print(\"Wstawiono 1000 klientów.\")\n"
   ]
  },
  {
   "cell_type": "code",
   "execution_count": null,
   "id": "1da8d829",
   "metadata": {},
   "outputs": [],
   "source": [
    "for i in range(1, 501):\n",
    "    cursor.execute(\"INSERT INTO Customers (customer_id) VALUES (%s)\", (i,))\n",
    "\n",
    "con.commit()\n",
    "cursor.close()\n",
    "con.close()"
   ]
  },
  {
   "cell_type": "code",
   "execution_count": 10,
   "id": "2e2634bf",
   "metadata": {},
   "outputs": [
    {
     "name": "stdout",
     "output_type": "stream",
     "text": [
      "[('EMANUEL', 'STUCZKO'), ('BARTEK', 'SZOSTEK'), ('SERGIUSZ', 'CHELIM'), ('FILIP', 'BANDER'), ('MARSEL', 'GRYNDYS'), ('MAGNUS', 'PYDYMOWSKI'), ('ITAN', 'LENIUCH'), ('DANYL', 'SZENFISZ'), ('NATHANIEL', 'WEREWKA'), ('NATANAEL', 'MEC'), ('TYMON', 'LEVESQUE'), ('DAWID', 'DARA'), ('AXEL', 'ZAGRODNICZEK'), ('ARTEMII', 'ZOREK'), ('KAI', 'MARKIECKI'), ('DAMIR', 'BIGAJŁO'), ('RAGNAR', 'OTCZAK'), ('ADRIAN', 'AST'), ('JOSEPH', 'KRZYCZMONIK'), ('BRIAN', 'PAŁCON'), ('EMILIO', 'BLANKIEWICZ'), ('ROSTYSLAV', 'STREJA'), ('HEKTOR', 'BENICH'), ('WINCENTY', 'RAPA'), ('JONATHAN', 'IRYTOWSKI'), ('NATHAN', 'KURZAŁ'), ('KILIAN', 'GRECZEL'), ('WALDEMAR', 'PIETRACZENKO'), ('ROBIN', 'CHRZAŚCIK'), ('VIKTOR', 'STAROŚCIAK'), ('MICHAŁ', 'GOWIK'), ('OLEK', 'PRZEGIENDA'), ('BRAJAN', 'GRZEBITA'), ('ARTEM', 'POWIERZA'), ('MARKIJAN', 'SILINGIEWICZ'), ('ANDRZEJ', 'MIHOK'), ('LEONARDO', 'PINGWARSKI'), ('JULIAN', 'RAMEL'), ('MILANO', 'BUTNY'), ('ERIK', 'KISIENIOWSKI'), ('KHALID', 'PYŚKO'), ('RADOMIR', 'MAKSALON'), ('YELYSEI', 'KIELISZ'), ('DMITRIJ', 'POPIELARCZYK'), ('MICHAL', 'SIOFER'), ('BRUNON', 'SOFIANOWICZ'), ('WIT', 'BRAŚ'), ('FRANEK', 'GABRIŠ'), ('ARSEN', 'KACZMARZYŃSKI'), ('MUAZ', 'DYNIA'), ('KASPIAN', 'ŚNIADECKI'), ('IGNACY', 'NIZAR'), ('VICTOR', 'JAKCIKOWSKI'), ('ADAM', 'GOZDYRA'), ('MATVII', 'NAJDZIŃSKI'), ('LOUIE', 'PARTYNIEWICZ'), ('KYRYLO', 'KOZIAŁKOWSKI'), ('KRYSPIN', 'WINTERSTEIN'), ('WITO', 'DOVHAN'), ('MATVEY', 'DURZALSKI'), ('ALEX', 'PÓŁAWSKI-BORKOWICZ'), ('ETHAN', 'CASIMIRO'), ('THEODOR', 'BINER'), ('LECH', 'KINCZEL'), ('LEON', 'HAŁASIK'), ('LEONARD', 'MOZA'), ('LEV', 'HYLLA'), ('CHRISTOPHER', 'DURAŃ'), ('TOBIAS', 'FLETA'), ('TIMOTHY', 'SKRZECZKO'), ('LIONEL', 'HEDRYCH'), ('ANDRII', 'MOSKALONEK'), ('DEMID', 'ROMBIEL'), ('NIKOLOZ', 'CHRISIDIS'), ('CHARLES', 'RATYMIRSKI'), ('HUBERT', 'CAP'), ('MATVIJ', 'CAGGIULA'), ('KIAN', 'WIERCHOW'), ('BRONISŁAW', 'HLUCHNIK'), ('LIWIUSZ', 'SZMARZ'), ('ILLIA', 'DRUCIS'), ('JAKOB', 'GUDKÓW'), ('RAYAN', 'WILT'), ('ALEXANDER', 'LALECKI'), ('ENEJ', 'BEZKOROVAINYI'), ('ALBERT', 'DOBRANZ'), ('MARTIN', 'GETMAN'), ('WILHELM', 'ŁACKO'), ('ELIASZ', 'SILSKI'), ('KUBA', 'MIELAN'), ('CZESŁAW', 'STAWIEREJ'), ('ZACHARIASZ', 'SIESZPUTOWSKI'), ('LUCJUSZ', 'URSEL'), ('ŚWIATOSŁAW', 'MORTOŃ'), ('LEONIDAS', 'MAJERANOWSKI'), ('MYKHAIL', 'KOCIENCKI'), ('OLIVIER', 'GREMPLICA'), ('JOHN', 'STRAZZULLA'), ('MARIAN', 'BARTMIŃSKI'), ('MARCEL', 'ZMAZA'), ('EGOR', 'SIERRA'), ('GERALD', 'CHRZEŚCIJAN'), ('JAMES', 'PLECHOWSKI'), ('DIEGO', 'KARPYSZ'), ('BOHDAN', 'WASJUTIN'), ('LIUBOMYR', 'KOSTIEROW'), ('BARTOSZ', 'KROHNE'), ('EDMUND', 'KRUKOWKA'), ('ASHER', 'BIMCAS'), ('DOBROMIR', 'ZIEBARTH'), ('MIRON', 'GUSTAWSKI'), ('YEHOR', 'BUĆ'), ('NAZARII', 'SOROTNIK'), ('DAVID', 'KONDERA'), ('MATVIY', 'MINURSKI'), ('IGO', 'GIURK'), ('IDRIS', 'BAREA'), ('LUKAS', 'MANOTA'), ('ZDZISŁAW', 'MICHNEJ'), ('ARIAN', 'ŚRUBA'), ('LOGAN', 'LUDOWICZ'), ('MIKHAIL', 'CETNER'), ('WACŁAW', 'BREWUS'), ('MIŁOSZ', 'WIĘSŁAW'), ('ALAN', 'KOLACHA'), ('MARCIN', 'CHOMEJ'), ('KAZIMIERZ', 'MERTINS'), ('RAFAEL', 'SULLA'), ('MYRON', 'UHLIG'), ('BAZYLI', 'SOMMERTAG'), ('RICHARD', 'TRAN BINH'), ('LAVRIN', 'POJENT'), ('SVIATOSLAV', 'CAMPAGNA'), ('DEVID', 'MORDYL'), ('SEM', 'CHREŚCIAK'), ('LEVAN', 'ARMATOWSKI'), ('ALEKSANDER', 'KNAPPE'), ('KRYSTIAN', 'PEŠKOVIČ'), ('TIMOFEI', 'ZOMBIERT'), ('OSCAR', 'TRINH HUY'), ('LUCAS', 'HOFRICHTER'), ('XAWERY', 'REKSA'), ('ERWIN', 'BOLIN'), ('JOSHUA', 'FREGIN'), ('WŁODZIMIERZ', 'MACECH'), ('ALEKS', 'SGODA'), ('DAMYR', 'SCHIEFELBAIN'), ('HECTOR', 'IDZIEK'), ('DARII', 'THEUER'), ('KONSTANTY', 'SZELWACHOWSKI'), ('VITO', 'KUPSZ'), ('ALEKSY', 'PANIUS'), ('ALI', 'POLISZEWSKI'), ('MIGUEL', 'LUBRAŃSKI'), ('EZRA', 'TUROWIEC'), ('LUKIAN', 'KAZA'), ('GLEB', 'SYMBER'), ('VITALII', 'BAKAL'), ('OLIWIER', 'EICKHOFF'), ('GIA KHANG', 'ROICKI'), ('JEREMIASZ', 'SZUCHIEWICZ'), ('ALOJZY', 'ZACHARIASIEWICZ'), ('TADEJ', 'CIUŁA'), ('KSAWIER', 'SMOLARKIEWICZ'), ('HUGO', 'KIERZAK'), ('HARRY', 'CIUHAK'), ('RYSZARD', 'DITTRICH-CHAMELA'), ('KORNELIUSZ', 'ROHOZIŃSKI'), ('HIERONIM', 'YASKOU'), ('ERNEST', 'JUZALSKI'), ('BRANDON', 'KURJAŃSKI'), ('SAMI', 'GLEGAŁA'), ('FRANCESCO', 'WIRCHAŁ'), ('DARIO', 'VOELKNER'), ('WINICJUSZ', 'URZĘDNICZOK'), ('MARCJAN', 'TRĄBKA'), ('KRZYSZTOF', 'MAUDUK'), ('FELICJAN', 'SHYRAYEU'), ('IWO', 'AVOYAN'), ('BENON', 'GIEŁCZYK'), ('JEREMI', 'PIECZAJKA'), ('ALLAN', 'BRUSANOWSKI'), ('YAREMA', 'PERCHINENNA'), ('JAROSLAW', 'KUPRYANIUK'), ('TYMOFIY', 'WUJECKI'), ('TYMOTEUSZ', 'DUSZYNSKI'), ('IZAAK', 'ZARZEMBŁOWSKI'), ('LUKASZ', 'NOWIKOWSKI'), ('KEVIN', 'MOTEWKA'), ('MYKHAILO', 'OCHLA'), ('NATAN', 'HAJDUKOWSKI'), ('SERHII', 'KLINGOFER'), ('BERNARD', 'MILITELLO'), ('ROBERT', 'SKORUT'), ('PAWEŁ', 'GOTÓWKA'), ('AIDEN', 'GRANCZEWSKI'), ('OKTAWIAN', 'SZPERLING'), ('MAKAR', 'TALERZOWSKI'), ('ZENON', 'WYDURSKI'), ('TEODOR', 'OREŁ'), ('KYRYL', 'ŻYCINIEC'), ('TYMUR', 'GERTER'), ('TEOFIL', 'HALCZUCH'), ('MYKOLA', 'BYCZENKO'), ('NICO', 'NARODZONEK'), ('DEMYAN', 'TAUSEWALD'), ('RYAN', 'GATZKI'), ('DENIS', 'RZESZCZAK'), ('ERIC', 'KOSZYCIARZ'), ('ANTEK', 'JAŃCZURA'), ('ANDREI', 'KONDYJOWSKI'), ('NICOLAS', 'GRYCHNIK'), ('NORBERT', 'STADNYK'), ('TEO', 'LUPCZYK'), ('IGOR', 'GROCHOCIŃSKI'), ('LUDWIK', 'SOWIŃSKI-MACKIEWICZ'), ('MUHAMMAD', 'FRELKE'), ('PEDRO', 'GOŚCINIAK'), ('OLIWER', 'GŁADCZAK'), ('DIONIZY', 'KARAMON'), ('RADOSŁAW', 'PEMPKOWIAK'), ('ZAKHAR', 'DJACZKIN'), ('CYPRIAN', 'CILWICKI'), ('OSKAR', 'GEWALD'), ('ANTON', 'BUNTO'), ('COLIN', 'DWUCET'), ('DANYLO', 'HALWANI'), ('WLADYSLAW', 'HARAJ'), ('GNIEWOMIR', 'BIEDZIUK'), ('BARTŁOMIEJ', 'JECHOWSKI'), ('AYAAN', 'KUĆMIERCZYK'), ('EDWIN', 'SZYMCZAK-GAŁKOWSKI'), ('SVYATOSLAV', 'RANCAN'), ('LUIS', 'NORRMANN'), ('MARIUSZ', 'GŁAZ'), ('ILLYA', 'FARYNOWICZ'), ('WALTER', 'BENAUER'), ('JAROSŁAW', 'TWORK'), ('ASLAN', 'GARBAR'), ('SANTIAGO', 'BOZANIAN'), ('VSEVOLOD', 'RODZYNKIEWICZ'), ('LIAM', 'FYDLAR'), ('JUAN', 'WYCHOCKI'), ('MARCELO', 'SĘKALA'), ('NIKOLAI', 'MOTERSKI'), ('SAMUEL', 'RUNIŃSKI'), ('LEVI', 'MARMAJEWSKI'), ('BALTAZAR', 'POLOSZYK'), ('OLEKSANDER', 'GRABOWSKI'), ('LUCA', 'FLOREK'), ('RAFAŁ', 'FOLLMANN'), ('GRZEGORZ', 'KARAKOSTAS'), ('IRENEUSZ', 'DAM'), ('ARIEL', 'PYCZEL'), ('HENRYK', 'LASSMANN'), ('HENRY', 'JASKULAK'), ('LUCJAN', 'MICHELKE'), ('JAIVIK', 'PAPAZYAN'), ('YEVHEN', 'HYŻNY'), ('MATWIJ', 'GRECA'), ('ROY', 'VYSHNIAKOV'), ('RUBEN', 'KARYMOW'), ('EDWARD', 'MANDALA'), ('KAJ', 'LIDNER'), ('MATTHEW', 'BINDAS'), ('TYMOFIJ', 'BERNY'), ('KASPER', 'ŚCIERSKI'), ('BOLKO', 'MURGOTT'), ('LUCIAN', 'ŻENCZAK'), ('HOÀNG BÁCH', 'JASIELSKI'), ('THEO', 'IŁĘDO'), ('KRISTIAN', 'NIEWIADOSKI'), ('CYRYL', 'SARNICKI'), ('GEORGE', 'SAMERLIK'), ('BENIAMIN', 'STECHLIK'), ('LESŁAW', 'KNEBLOCH'), ('HENRIK', 'CZIMECK'), ('JERZY', 'STOCHNIAŁEK'), ('IVAN', 'MULIĆ'), ('PAVLO', 'KERSBERGEN'), ('NIKITA', 'DECOBERT'), ('BRAYAN', 'JACOBS'), ('PAVEL', 'CYMANN'), ('MICHAEL', 'STYBUŁKOWSKI'), ('MOHAMED', 'FIGLAROWICZ'), ('DANIIL', 'KADŁUCKI'), ('YEVHENII', 'KISŁA'), ('ILIAN', 'KUPCEWICZ-SZWOCH'), ('ANTONI', 'WESENBERG'), ('ARAS', 'CHAŁADUS'), ('ROMAN', 'BORZYMOWICZ'), ('THÀNH ÐẠT', 'OKŁOT'), ('KORDIAN', 'KASPIROWICZ'), ('OLAF', 'SLATINA'), ('TIM', 'FRACH'), ('LARS', 'ZELMAŃSKI'), ('EDGAR', 'TRANDA'), ('ZIEMOWIT', 'ROZUMKIEWICZ'), ('AMBROŻY', 'SZCZEPŁEK'), ('BRAIAN', 'KLIMOROWSKI'), ('BOGUSŁAW', 'NAGRODKIEWICZ'), ('ARTUR', 'HILDEBRAND'), ('VLADISLAV', 'KAMA'), ('ANAS', 'JECHOWICZ'), ('TYTUS', 'CURZYTEK'), ('MARKIIAN', 'BREULICH'), ('MAKS', 'AMELJAŃCZYK'), ('GNIEWKO', 'LAUER'), ('YURII', 'SZESTAŁO'), ('NOE', 'MARYCKI'), ('NOLAN', 'TWORÓG'), ('BEN', 'BUŁANOW'), ('ARON', 'PRZYBYŚ'), ('ANASTAZY', 'KIERONIAK'), ('GRACJAN', 'MIKUŚKIEWICZ'), ('SIMON', 'KOPIENIOK'), ('NICHOLAS', 'NAWRACAJ'), ('SYRIUSZ', 'DRĄSZKOWSKI'), ('FABIAN', 'ALECHNOWICZ'), ('DANYIL', 'BONCAL'), ('ZAYN', 'SMYCZEK'), ('LUKA', 'GMUZDEK'), ('SEBASTIAN', 'KLIMCZYŃSKI'), ('STANISŁAW', 'CYPERSKI'), ('ANATOL', 'ŁATANYSZYN'), ('STEFAN', 'SZAMOW-BADOWSKI'), ('FRYDERYK', 'DOMACHOWSKI'), ('EMILIAN', 'ANDREASIK'), ('ZACHARY', 'RETWIŃSKI'), ('KRISHIV', 'KORCZYKOWSKI'), ('NIKOLAS', 'KACPRZAK VEL KACPROWICZ'), ('JĘDRZEJ', 'BERNATSKYI'), ('RAJMUND', 'SANDOK'), ('ZAHAR', 'LIMANÓWKA'), ('JEGOR', 'GOZDZIAK'), ('BOGUMIŁ', 'STOCKI'), ('OLEKSANDR', 'KUSAKA'), ('XAVIER', 'WARDZIAK-MĄKA'), ('MYROSLAV', 'IMANOW'), ('SZCZEPAN', 'WARS'), ('DMYTRO', 'CYGAŃSKI'), ('JAROSLAV', 'MARADZIEWSKI'), ('OSTAP', 'FAJFUR'), ('AMIL', 'ZACHARKIEWICZ'), ('SYLWESTER', 'ŁAWRYNIUK'), ('MAX', 'KORDZIŃSKI'), ('BENEDYKT', 'EREMBERG'), ('EMMANUEL', 'HAJDEN'), ('KARIM', 'REDMER'), ('DENIZ', 'KRZYCZMANIK'), ('VLADYSLAV', 'GORANCZEWSKI'), ('MAREK', 'SZAJBA'), ('MIHAIL', 'KRYPOWYCZ'), ('LÉON', 'KOSZUDA'), ('WŁADYSŁAW', 'MASHCHENKO'), ('AAYAN', 'PRZEMYŁSKI'), ('OMAR', 'PODMANICKI'), ('MIECZYSŁAW', 'LINART'), ('MARK', 'REDOSZ'), ('THIAGO', 'POLATEWICZ'), ('MAKSYM', 'GLICZA'), ('JACEK', 'PLISAK'), ('NIKODEM', 'ROGOŻNICKI'), ('USTYM', 'WEIR'), ('WOJTEK', 'OKPISZ'), ('MATEI', 'IVANOVSKI'), ('ROCH', 'AFFEK'), ('GIOVANNI', 'KUDRIA'), ('ORION', 'TURECZEK-ZAKRZEWSKI'), ('NIRVAIR', 'REZLER'), ('ALIAKSANDR', 'USIATYCKI'), ('MIROSŁAW', 'PAKIESER'), ('KAROL', 'DREWKO'), ('ZYGMUNT', 'HADUCH'), ('MIŁOSŁAW', 'SZĘFEL'), ('OTTO', 'MARZEION'), ('THEODORE', 'SWENDRACKI'), ('KLEMENS', 'KLEINEPAHLER'), ('MAKARY', 'KUPRIJANOWICZ'), ('KEWIN', 'SZYLDER'), ('WIKTOR', 'MACIJEWICZ'), ('ELDAR', 'ZIELONARSKI'), ('JONASZ', 'HELBRYCH'), ('GERARD', 'THURAND'), ('MARCO', 'TSARENKO'), ('DACHI', 'CHACHOŁ'), ('WOJCIECH', 'OMYLANOWSKI'), ('JAKUB', 'FAMUŁKA'), ('BOGDAN', 'ROŹNIATA'), ('DANIEL', 'GOLLNISCH'), ('FINN', 'WIERBOWSKI'), ('KAJETAN', 'MOMOTOWSKI'), ('MARKO', 'DUCHOWSKI'), ('RUPERT', 'RACHOWKA'), ('BENJAMIN', 'STUDNIORZ'), ('JAREMA', 'FORYTA'), ('BASTIAN', 'DYGOWSKI'), ('ARMAN', 'KOWALAK'), ('ALESSANDRO', 'DOBROMILSKI'), ('NATANIEL', 'TRZĄSKI'), ('IWAN', 'RAJZER'), ('ERYK', 'ZIĘTKO'), ('GAWEŁ', 'GUTOWICZ'), ('RAJAN', 'MACHEJ'), ('TADEI', 'ZDZIERELA'), ('TIMOFIY', 'ZONKO'), ('ROLAND', 'CHASZCZOWSKI'), ('GUSTAW', 'BRZOSZCZYK'), ('AURELIUSZ', 'MAKUTONOWICZ'), ('PAWEL', 'RÖHRICH'), ('STANISLAV', 'PASCH'), ('AARON', 'HARTER'), ('PATRYK', 'RIBSZLEGER'), ('ANDRIY', 'KENAWY'), ('MATEO', 'MAĆKOWICZ'), ('VOLODYMYR', 'GOMOLIŃSKI'), ('EVAN', 'LILLESTØL'), ('GUSTAV', 'BUYKO'), ('PLATON', 'LIPUS'), ('SZYMON', 'GERHARDS'), ('PRZEMYSŁAW', 'POPŁONYK'), ('GABRIEL', 'PRĘNDOTA'), ('SAMIR', 'OKSZA-GRABOWSKI'), ('SALOMON', 'WAŁĘCAK'), ('MYKYTA', 'POLEŚNY'), ('FRANK', 'WIECIERZYCKI'), ('MATWIEJ', 'PREDI'), ('MAKSIME', 'AFFES'), ('ZACHAR', 'GRELKA'), ('AYAN', 'LESHCHUK'), ('VINCENT', 'TUCZAPIEC'), ('JACOB', 'WIKTOR'), ('NICODEM', 'KALINICHENKO'), ('BRUNO', 'ZELL'), ('KIRIL', 'ARQUIER'), ('MAXIM', 'BURZYŃSKI'), ('YAROSLAV', 'RHINOW'), ('SEMIR', 'JORASZ-ŁAZIK'), ('ALEK', 'JÓRGA'), ('FREDERICK', 'SZYMCZUK-SZYMANIUK'), ('NOAH', 'MANOŚ'), ('ROMEO', 'STRYŃKOWSKI'), ('DENYS', 'ARMENIO'), ('MAURYCY', 'KULIKJAN'), ('MAXYMILIAN', 'POKOTOWSKI'), ('ARMIN', 'TESSIKOWSKI'), ('WITOLD', 'KURGUN'), ('KSAWERY', 'CZERNIGOWSKI'), ('MIKOLAJ', 'GRĄDCKI'), ('JAN', 'STROMKIE'), ('OLGIERD', 'SISULEWSKI'), ('MAKARII', 'BEREŚCIUK'), ('LEW', 'OWARZANY'), ('SŁAWOMIR', 'WILKOŁAK'), ('IVO', 'SIERSIECKI'), ('KAMIL', 'CHODACZNIK'), ('ABDULLAH', 'CZECHAK'), ('ŁUKASZ', 'DOSSMANN'), ('DYLAN', 'KRĘTOSZ'), ('FLORIAN', 'PIECZKIEWICZ'), ('ILAY', 'BENEGDA'), ('OLLIE', 'NOWACZUK'), ('MAXIMILIAN', 'GLINA'), ('THOMAS', 'ARYS'), ('IBRAHIM', 'KERKHOVEN'), ('JORDAN', 'KOPECZEK'), ('SAVELII', 'HŁADUNIUK'), ('KASJAN', 'TANDY'), ('MANUEL', 'IŻAKIEWICZ'), ('MATEUSZ', 'BELSKI'), ('LUKE', 'MAKSIMOWICZ'), ('GNIEWOSZ', 'ADOLPH'), ('ALEKSANDR', 'JAORNIK'), ('REMIGIUSZ', 'LUTEREK'), ('HENRI', 'PORĘBA-LENART'), ('KONRAD', 'EICHLER'), ('WILLIAM', 'JONCZYŃSKI'), ('TADEUSZ', 'LATSYK'), ('MIRAN', 'SILJAŃCZUK'), ('LOUIS', 'SCHÖNWALD'), ('MARKUS', 'KASZTELANIEC'), ('SAMBOR', 'DZIĘDZIELA'), ('JOEL', 'MICHAŁOWSKI-BRYŁA'), ('ARLO', 'GAJEWSKI-TUTTLE'), ('ILIA', 'DRAGUĆ'), ('LORENZO', 'RYMANOWICZ'), ('JOSEF', 'MIRING'), ('EMIR', 'KRYSTOSIAK'), ('MARCUS', 'PRUSZCZEŃSKI'), ('SAM', 'KUNIGIEL'), ('YAN', 'LEBUDA'), ('BOLESŁAW', 'BRZUZEK'), ('NOEL', 'GODZWAN'), ('GIORGI', 'WRZECIONKOWSKI'), ('DEMIAN', 'PERKOWSKI'), ('FIODOR', 'ANZLIK'), ('ILYA', 'DZIUBLAK'), ('JÓZEF', 'NAUJOKAJTYS'), ('NEHEMIASZ', 'JESZKO'), ('CEZARY', 'GONIAKOWSKI')]\n"
     ]
    }
   ],
   "source": [
    "import pandas as pd\n",
    "import random\n",
    "imiona_df = pd.read_csv(\"imiona_men.csv\")  # lub imiona_woman.csv\n",
    "nazwiska_df = pd.read_csv(\"nazwiska_men.csv\")  # lub nazwiska_woman.csv\n",
    "\n",
    "# Wybierz unikalne imiona i nazwiska\n",
    "imiona = imiona_df['IMIĘ_PIERWSZE'].dropna().unique().tolist()\n",
    "nazwiska = nazwiska_df['Nazwisko aktualne'].dropna().unique().tolist()\n",
    "\n",
    "# Wylosuj 500 par\n",
    "losowe_pary = list(zip(\n",
    "    random.sample(imiona, 500),\n",
    "    random.sample(nazwiska, 500)\n",
    "))\n",
    "print(losowe_pary)"
   ]
  },
  {
   "cell_type": "code",
   "execution_count": 28,
   "id": "1affdf22",
   "metadata": {},
   "outputs": [
    {
     "name": "stdout",
     "output_type": "stream",
     "text": [
      "Uzupełniono daty urodzenia.\n"
     ]
    }
   ],
   "source": [
    "import random\n",
    "from datetime import datetime, timedelta\n",
    "\n",
    "# Funkcja do generowania losowej daty między 1970 a 2010\n",
    "def losowa_data_urodzenia():\n",
    "    start = datetime(1970, 1, 1)\n",
    "    end = datetime(2005, 12, 31)\n",
    "    delta = end - start\n",
    "    random_days = random.randint(0, delta.days)\n",
    "    return (start + timedelta(days=random_days)).date()\n",
    "\n",
    "con = mysql.connector.connect(\n",
    "    host=\"giniewicz.it\",\n",
    "    user=\"team07\",\n",
    "    password=\"te@mlot\",\n",
    "    database=\"team07\"\n",
    ")\n",
    "\n",
    "cursor = con.cursor()\n",
    "\n",
    "# Pobierz wszystkie customer_id\n",
    "cursor.execute(\"SELECT customer_id FROM Customers\")\n",
    "ids = cursor.fetchall()  # Zwraca listę krotek [(1,), (2,), ...]\n",
    "\n",
    "# Przygotuj pary (data_urodzenia, customer_id)\n",
    "dane = [(losowa_data_urodzenia(), id_[0]) for id_ in ids]\n",
    "\n",
    "# Aktualizacja\n",
    "sql = \"UPDATE Customers SET date_of_birth = %s WHERE customer_id = %s\"\n",
    "cursor.executemany(sql, dane)\n",
    "\n",
    "con.commit()\n",
    "print(\"Uzupełniono daty urodzenia.\")\n",
    "\n",
    "cursor.close()\n",
    "con.close()\n"
   ]
  },
  {
   "cell_type": "code",
   "execution_count": 29,
   "id": "917b4b27",
   "metadata": {},
   "outputs": [
    {
     "name": "stdout",
     "output_type": "stream",
     "text": [
      "Zaktualizowano emaile.\n"
     ]
    }
   ],
   "source": [
    "con = mysql.connector.connect(\n",
    "    host=\"giniewicz.it\",\n",
    "    user=\"team07\",\n",
    "    password=\"te@mlot\",\n",
    "    database=\"team07\"\n",
    ")\n",
    "\n",
    "cursor = con.cursor()\n",
    "\n",
    "# Pobieramy dane potrzebne do stworzenia e-maila\n",
    "cursor.execute(\"SELECT customer_id, first_name, last_name FROM Customers\")\n",
    "klienci = cursor.fetchall()  # [(1, 'JAN', 'NOWAK'), (2, 'ANNA', 'KOWALSKA'), ...]\n",
    "\n",
    "# Generujemy emaile\n",
    "dane_do_emaila = []\n",
    "for customer_id, first, last in klienci:\n",
    "    email = f\"{first.lower()}_{last.lower()}@email.com\".replace(\" \", \"\").replace(\"ł\", \"l\").replace(\"ń\", \"n\")\n",
    "    dane_do_emaila.append((email, customer_id))\n",
    "# Aktualizujemy kolumnę email\n",
    "sql = \"UPDATE Customers SET email = %s WHERE customer_id = %s\"\n",
    "cursor.executemany(sql, dane_do_emaila)\n",
    "\n",
    "con.commit()\n",
    "print(\"Zaktualizowano emaile.\")\n",
    "\n",
    "cursor.close()\n",
    "con.close()\n"
   ]
  },
  {
   "cell_type": "code",
   "execution_count": 30,
   "id": "864ffb68",
   "metadata": {},
   "outputs": [
    {
     "name": "stdout",
     "output_type": "stream",
     "text": [
      "Zaktualizowano kolumnę is_insured.\n"
     ]
    }
   ],
   "source": [
    "con = mysql.connector.connect(\n",
    "    host=\"giniewicz.it\",\n",
    "    user=\"team07\",\n",
    "    password=\"te@mlot\",\n",
    "    database=\"team07\"\n",
    ")\n",
    "\n",
    "cursor = con.cursor()\n",
    "\n",
    "def losowe_ubezpieczenie():\n",
    "    return random.choices([True, False], weights=[95, 5], k=1)[0]\n",
    "cursor.execute(\"SELECT customer_id FROM Customers\")\n",
    "ids = cursor.fetchall()\n",
    "\n",
    "# Twórz pary (is_insured, customer_id)\n",
    "dane_ubezpieczenia = [(losowe_ubezpieczenie(), id_[0]) for id_ in ids]\n",
    "sql = \"UPDATE Customers SET is_insured = %s WHERE customer_id = %s\"\n",
    "cursor.executemany(sql, dane_ubezpieczenia)\n",
    "\n",
    "con.commit()\n",
    "print(\"Zaktualizowano kolumnę is_insured.\")\n",
    "\n",
    "cursor.close()\n",
    "con.close()"
   ]
  },
  {
   "cell_type": "code",
   "execution_count": null,
   "id": "bc762df2",
   "metadata": {},
   "outputs": [],
   "source": [
    "\n",
    "# Proste listy do generowania kontaktów\n",
    "relations = [\"mother\", \"father\", \"sister\", \"brother\", \"friend\", \"partner\", \"spouse\", \"aunt\", \"uncle\"]\n",
    "relation_weights = [20, 20, 10, 10, 25, 5, 5, 3, 2]  # razem 100\n",
    "\n",
    "# Załaduj imiona i nazwiska (jeśli już masz je w listach)\n",
    "female_names = imiona_woman_df['IMIĘ_PIERWSZE'].dropna().unique().tolist()\n",
    "\n",
    "male_names = imiona_men_df['IMIĘ_PIERWSZE'].dropna().unique().tolist()\n",
    "\n",
    "# Funkcja do losowania imienia i nazwiska\n",
    "def losowy_kontakt():\n",
    "    if random.random() < 0.5:\n",
    "        imie = random.choice(female_names)\n",
    "    else:\n",
    "        imie = random.choice(male_names)\n",
    "    nazwisko = random.choice(surnames)\n",
    "    return f\"{imie} {nazwisko}\"\n",
    "\n",
    "# Losowe 9-cyfrowe numery\n",
    "def losowy_numer():\n",
    "    return ''.join(str(random.randint(0, 9)) for _ in range(9))\n",
    "\n",
    "con = mysql.connector.connect(\n",
    "    host=\"giniewicz.it\",\n",
    "    user=\"team07\",\n",
    "    password=\"te@mlot\",\n",
    "    database=\"team07\"\n",
    ")\n",
    "\n",
    "cursor = con.cursor()\n",
    "\n",
    "cursor.execute(\"SELECT customer_id FROM Customers\")\n",
    "ids = cursor.fetchall()\n",
    "\n",
    "dane_do_wstawienia = []\n",
    "for (cid,) in ids:\n",
    "    phone = losowy_numer()\n",
    "    emergency_phone = losowy_numer()\n",
    "    contact_name = losowy_kontakt()\n",
    "    relation = random.choices(relations, weights=relation_weights, k=1)[0]\n",
    "    dane_do_wstawienia.append((phone, contact_name, emergency_phone, relation, cid))\n",
    "\n",
    "sql = \"\"\"\n",
    "    UPDATE Customers\n",
    "    SET phone_number = %s,\n",
    "        emergency_contact_name = %s,\n",
    "        emergency_contact_phone = %s,\n",
    "        emergency_contact_relation = %s\n",
    "    WHERE customer_id = %s\n",
    "\"\"\"\n",
    "\n",
    "cursor.executemany(sql, dane_do_wstawienia)\n",
    "\n",
    "con.commit()\n",
    "print(\"Zaktualizowano dane kontaktowe.\")\n",
    "\n",
    "cursor.close()\n",
    "con.close()\n"
   ]
  },
  {
   "cell_type": "code",
   "execution_count": null,
   "id": "956c5846",
   "metadata": {},
   "outputs": [],
   "source": [
    "# Załaduj imiona i nazwiska (jeśli już masz je w listach)\n",
    "female_names = imiona_woman_df['IMIĘ_PIERWSZE'].dropna().unique().tolist()\n",
    "male_names = imiona_men_df['IMIĘ_PIERWSZE'].dropna().unique().tolist()\n",
    "surnames = nazwiska_df['NAZWISKO'].dropna().unique().tolist()\n",
    "\n",
    "relations = [\"mother\", \"father\", \"sister\", \"brother\", \"friend\", \"partner\", \"aunt\", \"uncle\"]\n",
    "relation_weights = [20, 20, 10, 10, 25, 5, 5, 5]  # razem 100\n",
    "\n",
    "def losowy_numer():\n",
    "    return ''.join(str(random.randint(0, 9)) for _ in range(9))\n",
    "\n",
    "def losowe_imie(relacja):\n",
    "    if relacja == \"mother\":\n",
    "        return random.choice(female_names)\n",
    "    elif relacja == \"father\":\n",
    "        return random.choice(male_names)\n",
    "    elif relacja == \"sister\":\n",
    "        return random.choice(female_names)\n",
    "    elif relacja == \"brother\":\n",
    "        return random.choice(male_names)\n",
    "    else:\n",
    "        return random.choice(female_names + male_names)\n",
    "\n",
    "def losowe_nazwisko(relacja, nazwisko_klienta):\n",
    "    if relacja in [\"mother\", \"father\", \"sister\", \"brother\"]:\n",
    "        return nazwisko_klienta\n",
    "    else:\n",
    "        return random.choice(surnames)\n",
    "\n",
    "# Połączenie z bazą\n",
    "con = mysql.connector.connect(\n",
    "    host=\"giniewicz.it\",\n",
    "    user=\"team07\",\n",
    "    password=\"te@mlot\",\n",
    "    database=\"team07\"\n",
    ")\n",
    "cursor = con.cursor()\n",
    "\n",
    "cursor.execute(\"SELECT customer_id, last_name FROM Customers\")\n",
    "ids_lastnames = cursor.fetchall()\n",
    "\n",
    "dane_do_wstawienia = []\n",
    "for cid, nazwisko_klienta in ids_lastnames:\n",
    "    phone = losowy_numer()\n",
    "    emergency_phone = losowy_numer()\n",
    "    relacja = random.choices(relations, weights=relation_weights, k=1)[0]\n",
    "\n",
    "    imie = losowe_imie(relacja)\n",
    "    nazwisko = losowe_nazwisko(relacja, nazwisko_klienta)\n",
    "    kontakt = f\"{imie} {nazwisko}\"\n",
    "\n",
    "    dane_do_wstawienia.append((phone, kontakt, emergency_phone, relacja, cid))\n",
    "\n",
    "sql = \"\"\"\n",
    "    UPDATE Customers\n",
    "    SET phone_number = %s,\n",
    "        emergency_contact_name = %s,\n",
    "        emergency_contact_phone = %s,\n",
    "        emergency_contact_relation = %s\n",
    "    WHERE customer_id = %s\n",
    "\"\"\"\n",
    "\n",
    "cursor.executemany(sql, dane_do_wstawienia)\n",
    "con.commit()\n",
    "\n",
    "print(\"Zaktualizowano dane kontaktowe.\")\n",
    "\n",
    "cursor.close()\n",
    "con.close()\n"
   ]
  },
  {
   "cell_type": "code",
   "execution_count": 31,
   "id": "2a8db2b3",
   "metadata": {},
   "outputs": [],
   "source": [
    "female_names = imiona_woman_df['IMIĘ_PIERWSZE'].dropna().unique().tolist()\n",
    "male_names = imiona_men_df['IMIĘ_PIERWSZE'].dropna().unique().tolist()\n",
    "female_surnames = nazwiska_woman_df['Nazwisko aktualne'].dropna().unique().tolist()\n",
    "male_surnames = nazwiska_men_df['Nazwisko aktualne'].dropna().unique().tolist()\n",
    "relations = [\"mother\", \"father\", \"sister\", \"brother\", \"friend\", \"partner\", \"aunt\", \"uncle\"]\n",
    "relation_weights = [20, 20, 10, 10, 25, 5, 5, 5]\n",
    "\n",
    "def losowy_numer():\n",
    "    return ''.join(str(random.randint(0, 9)) for _ in range(9))\n",
    "\n",
    "def generuj_kontakt(relacja, nazwisko_klienta):\n",
    "    if relacja in [\"mother\", \"sister\", \"aunt\"]:\n",
    "        imie = random.choice(female_names)\n",
    "        nazwisko = nazwisko_klienta if relacja in [\"mother\", \"sister\"] else random.choice(female_surnames)\n",
    "    elif relacja in [\"father\", \"brother\", \"uncle\"]:\n",
    "        imie = random.choice(male_names)\n",
    "        nazwisko = nazwisko_klienta if relacja in [\"father\", \"brother\"] else random.choice(male_surnames)\n",
    "    else:  # friend, partner\n",
    "        imie = random.choice(female_names + male_names)\n",
    "        nazwisko = random.choice(female_surnames + male_surnames)\n",
    "    \n",
    "    return f\"{imie} {nazwisko}\"\n"
   ]
  },
  {
   "cell_type": "code",
   "execution_count": 32,
   "id": "b4d88680",
   "metadata": {},
   "outputs": [],
   "source": [
    "con = mysql.connector.connect(\n",
    "    host=\"giniewicz.it\",\n",
    "    user=\"team07\",\n",
    "    password=\"te@mlot\",\n",
    "    database=\"team07\"\n",
    ")\n",
    "\n",
    "cursor = con.cursor()\n",
    "cursor.execute(\"SELECT customer_id, last_name FROM Customers\")\n",
    "rows = cursor.fetchall()\n",
    "\n",
    "dane_do_wstawienia = []\n",
    "for customer_id, last_name in rows:\n",
    "    phone = losowy_numer()\n",
    "    emergency_phone = losowy_numer()\n",
    "    relacja = random.choices(relations, weights=relation_weights, k=1)[0]\n",
    "    kontakt = generuj_kontakt(relacja, last_name)\n",
    "    dane_do_wstawienia.append((phone, kontakt, emergency_phone, relacja, customer_id))\n"
   ]
  },
  {
   "cell_type": "code",
   "execution_count": 33,
   "id": "59794556",
   "metadata": {},
   "outputs": [
    {
     "name": "stdout",
     "output_type": "stream",
     "text": [
      "Zaktualizowano dane kontaktowe klientów.\n"
     ]
    }
   ],
   "source": [
    "sql = \"\"\"\n",
    "    UPDATE Customers\n",
    "    SET phone_number = %s,\n",
    "        emergency_contact_name = %s,\n",
    "        emergency_contact_phone = %s,\n",
    "        emergency_contact_relation = %s\n",
    "    WHERE customer_id = %s\n",
    "\"\"\"\n",
    "\n",
    "cursor.executemany(sql, dane_do_wstawienia)\n",
    "con.commit()\n",
    "\n",
    "print(\"Zaktualizowano dane kontaktowe klientów.\")\n",
    "cursor.close()\n",
    "con.close()\n"
   ]
  },
  {
   "cell_type": "markdown",
   "id": "a3261d65",
   "metadata": {},
   "source": [
    "## Spacecrafts\n"
   ]
  },
  {
   "cell_type": "code",
   "execution_count": 42,
   "id": "1bb74303",
   "metadata": {},
   "outputs": [
    {
     "name": "stdout",
     "output_type": "stream",
     "text": [
      "vehicle_id\n",
      "name\n",
      "type\n",
      "capacity\n",
      "manufacturing_date\n",
      "status\n"
     ]
    }
   ],
   "source": [
    "con = mysql.connector.connect(\n",
    "    host=\"giniewicz.it\",\n",
    "    user=\"team07\",\n",
    "    password=\"te@mlot\",\n",
    "    database=\"team07\"\n",
    ")\n",
    "\n",
    "cursor = con.cursor()\n",
    "cursor.execute(\"DESCRIBE Spacecrafts\")\n",
    "# cursor.execute(\"SELECT * FROM Destinations\")\n",
    "for row in cursor.fetchall():\n",
    "    print(row[0])  # Pierwszy element to nazwa kolumny\n",
    "cursor.close()\n",
    "con.close()"
   ]
  },
  {
   "cell_type": "code",
   "execution_count": 44,
   "id": "9668eb30",
   "metadata": {},
   "outputs": [
    {
     "name": "stdout",
     "output_type": "stream",
     "text": [
      "Dodano 10 pojazdów kosmicznych.\n"
     ]
    }
   ],
   "source": [
    "spacecrafts = [\n",
    "    (\"Parker Solar Probe\", \"shuttle\", 12, \"2018-05-20\", \"active\"),\n",
    "    (\"Helios I\", \"lander\", 6, \"2019-11-03\", \"active\"),\n",
    "    (\"Helios II\", \"lander\", 14, \"2020-03-15\", \"maintenance\"),\n",
    "    (\"Voyager 1\", \"cruise\", 50, \"2017-07-12\", \"retired\"),\n",
    "    (\"Voyager 2\", \"cruise\", 60, \"2020-10-05\", \"active\"),\n",
    "    (\"Titan Runner\", \"cruise\", 100, \"2021-01-30\", \"active\"),\n",
    "    (\"Nova Clipper\", \"rocket\", 8, \"2023-04-18\", \"active\"),\n",
    "    (\"Pioneer 10\", \"rocket\", 10, \"2015-06-09\", \"maintenance\"),\n",
    "    (\"Pioneer 11\", \"rocket\", 15, \"2022-09-27\", \"active\"),\n",
    "    (\"Jupiter Crown\", \"cruise\", 80, \"2024-02-01\", \"active\")\n",
    "]\n",
    "\n",
    "con = mysql.connector.connect(\n",
    "    host=\"giniewicz.it\",\n",
    "    user=\"team07\",\n",
    "    password=\"te@mlot\",\n",
    "    database=\"team07\"\n",
    ")\n",
    "\n",
    "cursor = con.cursor()\n",
    "\n",
    "sql = \"\"\"\n",
    "    INSERT INTO Spacecrafts\n",
    "    (name, type, capacity, manufacturing_date, status)\n",
    "    VALUES (%s, %s, %s, %s, %s)\n",
    "\"\"\"\n",
    "\n",
    "cursor.executemany(sql, spacecrafts)\n",
    "\n",
    "con.commit()\n",
    "print(\"Dodano 10 pojazdów kosmicznych.\")\n",
    "\n",
    "cursor.close()\n",
    "con.close()\n"
   ]
  },
  {
   "cell_type": "markdown",
   "id": "e994ef0f",
   "metadata": {},
   "source": [
    "## Employees"
   ]
  },
  {
   "cell_type": "code",
   "execution_count": 51,
   "id": "7caa375e",
   "metadata": {},
   "outputs": [
    {
     "name": "stdout",
     "output_type": "stream",
     "text": [
      "employee_id\n",
      "first_name\n",
      "last_name\n",
      "role\n",
      "specialization\n",
      "assigned_vehicle_id\n",
      "salary\n"
     ]
    }
   ],
   "source": [
    "con = mysql.connector.connect(\n",
    "    host=\"giniewicz.it\",\n",
    "    user=\"team07\",\n",
    "    password=\"te@mlot\",\n",
    "    database=\"team07\"\n",
    ")\n",
    "\n",
    "cursor = con.cursor()\n",
    "cursor.execute(\"DESCRIBE Employees\")\n",
    "# cursor.execute(\"SELECT * FROM Destinations\")\n",
    "for row in cursor.fetchall():\n",
    "    print(row[0])  # Pierwszy element to nazwa kolumny\n",
    "cursor.close()\n",
    "con.close()"
   ]
  },
  {
   "cell_type": "code",
   "execution_count": 46,
   "id": "1cd29b5e",
   "metadata": {},
   "outputs": [],
   "source": [
    "# Losuj 25 kobiet i 25 mężczyzn\n",
    "female_first = random.sample(imiona_woman, 25)\n",
    "female_last = random.sample(nazwiska_woman, 25)\n",
    "\n",
    "male_first = random.sample(imiona_men, 25)\n",
    "male_last = random.sample(nazwiska_men, 25)\n",
    "\n",
    "# Role i specjalizacje\n",
    "roles = [\"pilot\", \"engineer\", \"medic\", \"technician\", \"commander\"]\n",
    "specializations = [\"navigation\", \"propulsion\", \"life support\", \"AI systems\", \"research\"]\n",
    "con = mysql.connector.connect(\n",
    "    host=\"giniewicz.it\",\n",
    "    user=\"team07\",\n",
    "    password=\"te@mlot\",\n",
    "    database=\"team07\"\n",
    ")\n",
    "cursor = con.cursor()\n",
    "cursor.execute(\"SELECT vehicle_id FROM Spacecrafts\")\n",
    "vehicle_ids = [row[0] for row in cursor.fetchall()]\n"
   ]
  },
  {
   "cell_type": "code",
   "execution_count": 48,
   "id": "7005d214",
   "metadata": {},
   "outputs": [
    {
     "name": "stdout",
     "output_type": "stream",
     "text": [
      "Dodano 50 pracowników.\n"
     ]
    }
   ],
   "source": [
    "employees = []\n",
    "\n",
    "# Kobiety\n",
    "for f, l in zip(female_first, female_last):\n",
    "    employees.append((\n",
    "        f,\n",
    "        l,\n",
    "        random.choice(roles),\n",
    "        random.choice(specializations),\n",
    "        random.choice(vehicle_ids)\n",
    "    ))\n",
    "\n",
    "# Mężczyźni\n",
    "for f, l in zip(male_first, male_last):\n",
    "    employees.append((\n",
    "        f,\n",
    "        l,\n",
    "        random.choice(roles),\n",
    "        random.choice(specializations),\n",
    "        random.choice(vehicle_ids)\n",
    "    ))\n",
    "sql = \"\"\"\n",
    "    INSERT INTO Employees\n",
    "    (first_name, last_name, role, specialization, assigned_vehicle_id)\n",
    "    VALUES (%s, %s, %s, %s, %s)\n",
    "\"\"\"\n",
    "cursor.executemany(sql, employees)\n",
    "con.commit()\n",
    "\n",
    "print(\"Dodano 50 pracowników.\")\n",
    "cursor.close()\n",
    "con.close()\n"
   ]
  },
  {
   "cell_type": "code",
   "execution_count": 50,
   "id": "d417442a",
   "metadata": {},
   "outputs": [
    {
     "name": "stdout",
     "output_type": "stream",
     "text": [
      "Zaktualizowano pensje pracowników.\n"
     ]
    }
   ],
   "source": [
    "# Mapowanie ról na widełki\n",
    "salary_ranges = {\n",
    "    \"pilot\": (15000, 22000),\n",
    "    \"engineer\": (12000, 18000),\n",
    "    \"medic\": (10000, 16000),\n",
    "    \"technician\": (8000, 13000),\n",
    "    \"commander\": (20000, 30000),\n",
    "}\n",
    "\n",
    "# Połącz się z bazą\n",
    "con = mysql.connector.connect(\n",
    "    host=\"giniewicz.it\",\n",
    "    user=\"team07\",\n",
    "    password=\"te@mlot\",\n",
    "    database=\"team07\"\n",
    ")\n",
    "cursor = con.cursor()\n",
    "\n",
    "# Pobierz employee_id i role\n",
    "cursor.execute(\"SELECT employee_id, role FROM Employees\")\n",
    "records = cursor.fetchall()\n",
    "\n",
    "# Generuj zarobki\n",
    "update_data = []\n",
    "for emp_id, role in records:\n",
    "    min_sal, max_sal = salary_ranges[role]\n",
    "    salary = round(random.uniform(min_sal, max_sal), 2)\n",
    "    update_data.append((salary, emp_id))\n",
    "\n",
    "# Aktualizuj dane\n",
    "sql = \"UPDATE Employees SET salary = %s WHERE employee_id = %s\"\n",
    "cursor.executemany(sql, update_data)\n",
    "\n",
    "con.commit()\n",
    "print(\"Zaktualizowano pensje pracowników.\")\n",
    "cursor.close()\n",
    "con.close()\n"
   ]
  },
  {
   "cell_type": "markdown",
   "id": "126b9c9c",
   "metadata": {},
   "source": [
    "## Destinations"
   ]
  },
  {
   "cell_type": "code",
   "execution_count": 52,
   "id": "d2ff3913",
   "metadata": {},
   "outputs": [
    {
     "name": "stdout",
     "output_type": "stream",
     "text": [
      "destination_id\n",
      "name\n",
      "description\n",
      "range\n",
      "x_coordinate\n",
      "y_coordinate\n",
      "z_coordinate\n",
      "gravity_level\n",
      "radiation_risk_level\n",
      "total_flight_cost\n"
     ]
    }
   ],
   "source": [
    "con = mysql.connector.connect(\n",
    "    host=\"giniewicz.it\",\n",
    "    user=\"team07\",\n",
    "    password=\"te@mlot\",\n",
    "    database=\"team07\"\n",
    ")\n",
    "\n",
    "cursor = con.cursor()\n",
    "cursor.execute(\"DESCRIBE Destinations\")\n",
    "# cursor.execute(\"SELECT * FROM Destinations\")\n",
    "for row in cursor.fetchall():\n",
    "    print(row[0])  # Pierwszy element to nazwa kolumny\n",
    "cursor.close()\n",
    "con.close()"
   ]
  },
  {
   "cell_type": "code",
   "execution_count": 56,
   "id": "e7bc0a60",
   "metadata": {},
   "outputs": [
    {
     "name": "stdout",
     "output_type": "stream",
     "text": [
      "Wstawiono 20 destynacji do tabeli Destinations.\n"
     ]
    }
   ],
   "source": [
    "# Połączenie z bazą danych\n",
    "con = mysql.connector.connect(\n",
    "    host=\"giniewicz.it\",\n",
    "    user=\"team07\",\n",
    "    password=\"te@mlot\",\n",
    "    database=\"team07\"\n",
    ")\n",
    "cursor = con.cursor()\n",
    "\n",
    "# Lista 20 destynacji\n",
    "destinations = [\n",
    "    {\n",
    "        \"name\": \"Mercury\", \"description\": \"Closest planet to the Sun, scorching hot surface.\",\n",
    "        \"range\": 91.7, \"gravity\": 0.38, \"radiation\": 9, \"cost\": 1500000\n",
    "    },\n",
    "    {\n",
    "        \"name\": \"Venus\", \"description\": \"Toxic atmosphere and intense pressure.\",\n",
    "        \"range\": 41.4, \"gravity\": 0.9, \"radiation\": 8, \"cost\": 1200000\n",
    "    },\n",
    "    {\n",
    "        \"name\": \"Earth Orbit Station\", \"description\": \"Low-Earth orbit station for layovers.\",\n",
    "        \"range\": 0.4, \"gravity\": 0.0, \"radiation\": 3, \"cost\": 100000\n",
    "    },\n",
    "    {\n",
    "        \"name\": \"Moon Base Alpha\", \"description\": \"First permanent base on the Moon.\",\n",
    "        \"range\": 0.384, \"gravity\": 0.17, \"radiation\": 5, \"cost\": 500000\n",
    "    },\n",
    "    {\n",
    "        \"name\": \"Mars\", \"description\": \"Red Planet, destination for colonization.\",\n",
    "        \"range\": 78, \"gravity\": 0.38, \"radiation\": 6, \"cost\": 2000000\n",
    "    },\n",
    "    {\n",
    "        \"name\": \"Phobos Outpost\", \"description\": \"Scientific station on Mars' moon Phobos.\",\n",
    "        \"range\": 78.3, \"gravity\": 0.01, \"radiation\": 7, \"cost\": 800000\n",
    "    },\n",
    "    {\n",
    "        \"name\": \"Ganymede Research Hub\", \"description\": \"Frozen moon of Jupiter with subsurface ocean.\",\n",
    "        \"range\": 628.3, \"gravity\": 0.15, \"radiation\": 8, \"cost\": 3000000\n",
    "    },\n",
    "    {\n",
    "        \"name\": \"Jupiter\", \"description\": \"Gas giant - flyby only.\",\n",
    "        \"range\": 628.7, \"gravity\": 2.4, \"radiation\": 10, \"cost\": 2500000\n",
    "    },\n",
    "    {\n",
    "        \"name\": \"Europa Station\", \"description\": \"Landing site on icy moon with potential life.\",\n",
    "        \"range\": 628.5, \"gravity\": 0.13, \"radiation\": 9, \"cost\": 2800000 \n",
    "    },\n",
    "    {\n",
    "        \"name\": \"Ceres Mining Colony\", \"description\": \"Asteroid belt mining and refueling hub.\",\n",
    "        \"range\": 414, \"gravity\": 0.03, \"radiation\": 6, \"cost\": 1000000\n",
    "    },\n",
    "    {\n",
    "        \"name\": \"Saturn\", \"description\": \"Iconic ringed gas giant - orbit cruise only.\",\n",
    "        \"range\": 1200, \"gravity\": 1.06, \"radiation\": 7, \"cost\": 3500000\n",
    "    },\n",
    "    {\n",
    "        \"name\": \"Titan Base\", \"description\": \"Methane lakes and exotic atmosphere.\",\n",
    "        \"range\": 1220, \"gravity\": 0.14, \"radiation\": 6, \"cost\": 3200000\n",
    "    },\n",
    "    {\n",
    "        \"name\": \"Uranus\", \"description\": \"Tilted planet with blue atmosphere.\",\n",
    "        \"range\": 2600, \"gravity\": 0.89, \"radiation\": 6, \"cost\": 5000000\n",
    "    },\n",
    "    {\n",
    "        \"name\": \"Neptune\", \"description\": \"Most distant gas giant with intense storms.\",\n",
    "        \"range\": 4300, \"gravity\": 1.14, \"radiation\": 7, \"cost\": 6000000\n",
    "    },\n",
    "    {\n",
    "        \"name\": \"Proxima Centauri b Base\", \"description\": \"Closest exoplanet to Earth.\",\n",
    "        \"range\": 401000, \"gravity\": 1.1, \"radiation\": 5, \"cost\": 18000000 \n",
    "    },\n",
    "    {\n",
    "        \"name\": \"The Black Hole Edge Station\", \"description\": \"Extreme research post near black hole.\",\n",
    "        \"range\": 550000, \"gravity\": 9.8, \"radiation\": 10, \"cost\": 50000000\n",
    "    },\n",
    "    {\n",
    "        \"name\": \"Dark Matter Observation Platform\", \"description\": \"High-orbit facility for fundamental physics.\",\n",
    "        \"range\": 200, \"gravity\": 0.0, \"radiation\": 2, \"cost\": 3000000\n",
    "    },\n",
    "]\n",
    "\n",
    "# Dodawanie współrzędnych\n",
    "def random_coords():\n",
    "    return round(random.uniform(-1000, 1000), 2)\n",
    "\n",
    "# Przygotowanie danych do INSERT\n",
    "destination_data = []\n",
    "for dest in destinations:\n",
    "    destination_data.append((\n",
    "        dest[\"name\"],\n",
    "        dest[\"description\"],\n",
    "        dest[\"range\"],\n",
    "        random_coords(),\n",
    "        random_coords(),\n",
    "        random_coords(),\n",
    "        dest[\"gravity\"],\n",
    "        dest[\"radiation\"],\n",
    "        dest[\"cost\"]\n",
    "    ))\n",
    "\n",
    "# SQL INSERT\n",
    "sql = \"\"\"\n",
    "INSERT INTO Destinations\n",
    "(name, description, `range`, x_coordinate, y_coordinate, z_coordinate, gravity_level, radiation_risk_level, total_flight_cost)\n",
    "VALUES (%s, %s, %s, %s, %s, %s, %s, %s, %s)\n",
    "\"\"\"\n",
    "\n",
    "cursor.executemany(sql, destination_data)\n",
    "con.commit()\n",
    "print(\"Wstawiono 20 destynacji do tabeli Destinations.\")\n",
    "\n",
    "cursor.close()\n",
    "con.close()\n"
   ]
  },
  {
   "cell_type": "markdown",
   "id": "d99a05fb",
   "metadata": {},
   "source": [
    "\n",
    "## TripTypes"
   ]
  },
  {
   "cell_type": "code",
   "execution_count": 58,
   "id": "49601a00",
   "metadata": {},
   "outputs": [
    {
     "name": "stdout",
     "output_type": "stream",
     "text": [
      "trip_type_id\n",
      "name\n",
      "description\n",
      "estimated_duration_days\n",
      "is_one_way\n"
     ]
    }
   ],
   "source": [
    "con = mysql.connector.connect(\n",
    "    host=\"giniewicz.it\",\n",
    "    user=\"team07\",\n",
    "    password=\"te@mlot\",\n",
    "    database=\"team07\"\n",
    ")\n",
    "\n",
    "cursor = con.cursor()\n",
    "cursor.execute(\"DESCRIBE TripTypes\")\n",
    "# cursor.execute(\"SELECT * FROM Destinations\")\n",
    "for row in cursor.fetchall():\n",
    "    print(row[0])  # Pierwszy element to nazwa kolumny\n",
    "cursor.close()\n",
    "con.close()"
   ]
  },
  {
   "cell_type": "code",
   "execution_count": 79,
   "id": "c84eba03",
   "metadata": {},
   "outputs": [],
   "source": [
    "con.close()"
   ]
  }
 ],
 "metadata": {
  "kernelspec": {
   "display_name": "env1",
   "language": "python",
   "name": "python3"
  },
  "language_info": {
   "codemirror_mode": {
    "name": "ipython",
    "version": 3
   },
   "file_extension": ".py",
   "mimetype": "text/x-python",
   "name": "python",
   "nbconvert_exporter": "python",
   "pygments_lexer": "ipython3",
   "version": "3.12.3"
  }
 },
 "nbformat": 4,
 "nbformat_minor": 5
}
